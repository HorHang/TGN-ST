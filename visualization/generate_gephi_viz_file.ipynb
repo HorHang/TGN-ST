{
 "cells": [
  {
   "cell_type": "markdown",
   "metadata": {},
   "source": [
    "# Generate .csv file to visualize in Gephi"
   ]
  },
  {
   "cell_type": "code",
   "execution_count": 8,
   "metadata": {},
   "outputs": [],
   "source": [
    "import pandas as pd\n",
    "import numpy as np\n",
    "from datetime import datetime\n",
    "import os\n",
    "import os.path as osp"
   ]
  },
  {
   "cell_type": "markdown",
   "metadata": {},
   "source": [
    "### Use pandas packages to read .csv file of edgelists"
   ]
  },
  {
   "cell_type": "code",
   "execution_count": 31,
   "metadata": {},
   "outputs": [
    {
     "data": {
      "text/html": [
       "<div>\n",
       "<style scoped>\n",
       "    .dataframe tbody tr th:only-of-type {\n",
       "        vertical-align: middle;\n",
       "    }\n",
       "\n",
       "    .dataframe tbody tr th {\n",
       "        vertical-align: top;\n",
       "    }\n",
       "\n",
       "    .dataframe thead th {\n",
       "        text-align: right;\n",
       "    }\n",
       "</style>\n",
       "<table border=\"1\" class=\"dataframe\">\n",
       "  <thead>\n",
       "    <tr style=\"text-align: right;\">\n",
       "      <th></th>\n",
       "      <th>timestamp</th>\n",
       "      <th>src</th>\n",
       "      <th>dst</th>\n",
       "      <th>callsign</th>\n",
       "      <th>typecode</th>\n",
       "    </tr>\n",
       "  </thead>\n",
       "  <tbody>\n",
       "    <tr>\n",
       "      <th>0</th>\n",
       "      <td>1546318800</td>\n",
       "      <td>YMML</td>\n",
       "      <td>LFPG</td>\n",
       "      <td>HVN19</td>\n",
       "      <td>NaN</td>\n",
       "    </tr>\n",
       "    <tr>\n",
       "      <th>1</th>\n",
       "      <td>1546318800</td>\n",
       "      <td>YMML</td>\n",
       "      <td>LEBL</td>\n",
       "      <td>CCA839</td>\n",
       "      <td>NaN</td>\n",
       "    </tr>\n",
       "    <tr>\n",
       "      <th>2</th>\n",
       "      <td>1546318800</td>\n",
       "      <td>YSSY</td>\n",
       "      <td>EDDF</td>\n",
       "      <td>CES219</td>\n",
       "      <td>A332</td>\n",
       "    </tr>\n",
       "    <tr>\n",
       "      <th>3</th>\n",
       "      <td>1546318800</td>\n",
       "      <td>LEMD</td>\n",
       "      <td>LEMD</td>\n",
       "      <td>AEA040</td>\n",
       "      <td>A332</td>\n",
       "    </tr>\n",
       "    <tr>\n",
       "      <th>4</th>\n",
       "      <td>1546318800</td>\n",
       "      <td>YSSY</td>\n",
       "      <td>LFPG</td>\n",
       "      <td>CXA825</td>\n",
       "      <td>B788</td>\n",
       "    </tr>\n",
       "  </tbody>\n",
       "</table>\n",
       "</div>"
      ],
      "text/plain": [
       "    timestamp   src   dst callsign typecode\n",
       "0  1546318800  YMML  LFPG    HVN19      NaN\n",
       "1  1546318800  YMML  LEBL   CCA839      NaN\n",
       "2  1546318800  YSSY  EDDF   CES219     A332\n",
       "3  1546318800  LEMD  LEMD   AEA040     A332\n",
       "4  1546318800  YSSY  LFPG   CXA825     B788"
      ]
     },
     "execution_count": 31,
     "metadata": {},
     "output_type": "execute_result"
    }
   ],
   "source": [
    "PROJ_DIR = osp.dirname(osp.abspath(''))\n",
    "f_edge = PROJ_DIR + \"/tgb/datasets/tgbl_flight/tgbl-flight_edgelist_v2.csv\"\n",
    "\n",
    "df_e = pd.read_csv(f_edge)\n",
    "df_e.head()"
   ]
  },
  {
   "cell_type": "markdown",
   "metadata": {},
   "source": [
    "### Specify the number of edges to sample"
   ]
  },
  {
   "cell_type": "code",
   "execution_count": 42,
   "metadata": {},
   "outputs": [],
   "source": [
    "num_sampl = 10000\n",
    "df_e_sampl = df_e.sample(num_sampl)"
   ]
  },
  {
   "cell_type": "markdown",
   "metadata": {},
   "source": [
    "### Convert Unix timestamps to datetime"
   ]
  },
  {
   "cell_type": "code",
   "execution_count": 33,
   "metadata": {},
   "outputs": [
    {
     "data": {
      "text/plain": [
       "'2022-07'"
      ]
     },
     "execution_count": 33,
     "metadata": {},
     "output_type": "execute_result"
    }
   ],
   "source": [
    "def ts_to_date(ts):\n",
    "    return datetime.fromtimestamp(int(ts)).strftime('%Y-%m')\n",
    "\n",
    "# testing\n",
    "ts_to_date(1658203200)"
   ]
  },
  {
   "cell_type": "code",
   "execution_count": 34,
   "metadata": {},
   "outputs": [
    {
     "data": {
      "text/html": [
       "<div>\n",
       "<style scoped>\n",
       "    .dataframe tbody tr th:only-of-type {\n",
       "        vertical-align: middle;\n",
       "    }\n",
       "\n",
       "    .dataframe tbody tr th {\n",
       "        vertical-align: top;\n",
       "    }\n",
       "\n",
       "    .dataframe thead th {\n",
       "        text-align: right;\n",
       "    }\n",
       "</style>\n",
       "<table border=\"1\" class=\"dataframe\">\n",
       "  <thead>\n",
       "    <tr style=\"text-align: right;\">\n",
       "      <th></th>\n",
       "      <th>timestamp</th>\n",
       "      <th>src</th>\n",
       "      <th>dst</th>\n",
       "      <th>callsign</th>\n",
       "      <th>typecode</th>\n",
       "      <th>datetime</th>\n",
       "    </tr>\n",
       "  </thead>\n",
       "  <tbody>\n",
       "    <tr>\n",
       "      <th>0</th>\n",
       "      <td>1546318800</td>\n",
       "      <td>YMML</td>\n",
       "      <td>LFPG</td>\n",
       "      <td>HVN19</td>\n",
       "      <td>NaN</td>\n",
       "      <td>1546300800</td>\n",
       "    </tr>\n",
       "    <tr>\n",
       "      <th>1</th>\n",
       "      <td>1546318800</td>\n",
       "      <td>YMML</td>\n",
       "      <td>LEBL</td>\n",
       "      <td>CCA839</td>\n",
       "      <td>NaN</td>\n",
       "      <td>1546300800</td>\n",
       "    </tr>\n",
       "    <tr>\n",
       "      <th>2</th>\n",
       "      <td>1546318800</td>\n",
       "      <td>YSSY</td>\n",
       "      <td>EDDF</td>\n",
       "      <td>CES219</td>\n",
       "      <td>A332</td>\n",
       "      <td>1546300800</td>\n",
       "    </tr>\n",
       "    <tr>\n",
       "      <th>3</th>\n",
       "      <td>1546318800</td>\n",
       "      <td>LEMD</td>\n",
       "      <td>LEMD</td>\n",
       "      <td>AEA040</td>\n",
       "      <td>A332</td>\n",
       "      <td>1546300800</td>\n",
       "    </tr>\n",
       "    <tr>\n",
       "      <th>4</th>\n",
       "      <td>1546318800</td>\n",
       "      <td>YSSY</td>\n",
       "      <td>LFPG</td>\n",
       "      <td>CXA825</td>\n",
       "      <td>B788</td>\n",
       "      <td>1546300800</td>\n",
       "    </tr>\n",
       "  </tbody>\n",
       "</table>\n",
       "</div>"
      ],
      "text/plain": [
       "    timestamp   src   dst callsign typecode    datetime\n",
       "0  1546318800  YMML  LFPG    HVN19      NaN  1546300800\n",
       "1  1546318800  YMML  LEBL   CCA839      NaN  1546300800\n",
       "2  1546318800  YSSY  EDDF   CES219     A332  1546300800\n",
       "3  1546318800  LEMD  LEMD   AEA040     A332  1546300800\n",
       "4  1546318800  YSSY  LFPG   CXA825     B788  1546300800"
      ]
     },
     "execution_count": 34,
     "metadata": {},
     "output_type": "execute_result"
    }
   ],
   "source": [
    "df_e[\"datetime\"] = pd.to_datetime(df_e[\"timestamp\"].apply(ts_to_date)).astype(int)//10**9\n",
    "\n",
    "df_e.head()"
   ]
  },
  {
   "cell_type": "markdown",
   "metadata": {},
   "source": [
    "### Create new dataframe by selecting only the necessary column preventing memory blow up during Gephi running"
   ]
  },
  {
   "cell_type": "code",
   "execution_count": 40,
   "metadata": {},
   "outputs": [],
   "source": [
    "data = {\"Source\": df_e.src,\n",
    "        \"Target\": df_e.dst,\n",
    "        \"datetime\": df_e.datetime,\n",
    "}\n",
    "new_df = pd.DataFrame(data)"
   ]
  },
  {
   "cell_type": "code",
   "execution_count": 36,
   "metadata": {},
   "outputs": [],
   "source": [
    "f_edge_out_full = PROJ_DIR + \"/tgb/datasets/tgbl_flight/tgbl-flight_edgelist_v2_out_full.csv\"\n",
    "num_sampl = 200000\n",
    "\n",
    "new_df.sample(num_sampl).to_csv(f_edge_out_full, index= False)"
   ]
  },
  {
   "cell_type": "markdown",
   "metadata": {},
   "source": [
    "### Use pandas package to read the node file. It contains invidual node information."
   ]
  },
  {
   "cell_type": "code",
   "execution_count": 37,
   "metadata": {},
   "outputs": [
    {
     "data": {
      "text/html": [
       "<div>\n",
       "<style scoped>\n",
       "    .dataframe tbody tr th:only-of-type {\n",
       "        vertical-align: middle;\n",
       "    }\n",
       "\n",
       "    .dataframe tbody tr th {\n",
       "        vertical-align: top;\n",
       "    }\n",
       "\n",
       "    .dataframe thead th {\n",
       "        text-align: right;\n",
       "    }\n",
       "</style>\n",
       "<table border=\"1\" class=\"dataframe\">\n",
       "  <thead>\n",
       "    <tr style=\"text-align: right;\">\n",
       "      <th></th>\n",
       "      <th>airport_code</th>\n",
       "      <th>type</th>\n",
       "      <th>continent</th>\n",
       "      <th>iso_region</th>\n",
       "      <th>longitude</th>\n",
       "      <th>latitude</th>\n",
       "    </tr>\n",
       "  </thead>\n",
       "  <tbody>\n",
       "    <tr>\n",
       "      <th>0</th>\n",
       "      <td>00A</td>\n",
       "      <td>heliport</td>\n",
       "      <td>NaN</td>\n",
       "      <td>US-PA</td>\n",
       "      <td>-74.933601</td>\n",
       "      <td>40.070801</td>\n",
       "    </tr>\n",
       "    <tr>\n",
       "      <th>1</th>\n",
       "      <td>00AA</td>\n",
       "      <td>small_airport</td>\n",
       "      <td>NaN</td>\n",
       "      <td>US-KS</td>\n",
       "      <td>-101.473911</td>\n",
       "      <td>38.704022</td>\n",
       "    </tr>\n",
       "    <tr>\n",
       "      <th>2</th>\n",
       "      <td>00AK</td>\n",
       "      <td>small_airport</td>\n",
       "      <td>NaN</td>\n",
       "      <td>US-AK</td>\n",
       "      <td>-151.695999</td>\n",
       "      <td>59.949200</td>\n",
       "    </tr>\n",
       "    <tr>\n",
       "      <th>3</th>\n",
       "      <td>00AL</td>\n",
       "      <td>small_airport</td>\n",
       "      <td>NaN</td>\n",
       "      <td>US-AL</td>\n",
       "      <td>-86.770302</td>\n",
       "      <td>34.864799</td>\n",
       "    </tr>\n",
       "    <tr>\n",
       "      <th>4</th>\n",
       "      <td>00AR</td>\n",
       "      <td>closed</td>\n",
       "      <td>NaN</td>\n",
       "      <td>US-AR</td>\n",
       "      <td>-91.254898</td>\n",
       "      <td>35.608700</td>\n",
       "    </tr>\n",
       "  </tbody>\n",
       "</table>\n",
       "</div>"
      ],
      "text/plain": [
       "  airport_code           type continent iso_region   longitude   latitude\n",
       "0          00A       heliport       NaN      US-PA  -74.933601  40.070801\n",
       "1         00AA  small_airport       NaN      US-KS -101.473911  38.704022\n",
       "2         00AK  small_airport       NaN      US-AK -151.695999  59.949200\n",
       "3         00AL  small_airport       NaN      US-AL  -86.770302  34.864799\n",
       "4         00AR         closed       NaN      US-AR  -91.254898  35.608700"
      ]
     },
     "execution_count": 37,
     "metadata": {},
     "output_type": "execute_result"
    }
   ],
   "source": [
    "f_node = PROJ_DIR + \"/tgb/datasets/tgbl_flight/airport_node_feat_v2.csv\"\n",
    "\n",
    "df_n = pd.read_csv(f_node)\n",
    "df_n.head()"
   ]
  },
  {
   "cell_type": "code",
   "execution_count": 38,
   "metadata": {},
   "outputs": [],
   "source": [
    "data = {\"Id\": df_n.airport_code,\n",
    "        \"continent\": df_n.continent,\n",
    "        \"iso_region\": df_n.iso_region,\n",
    "        \"longitue\": df_n.longitude,\n",
    "        \"latitue\": df_n.latitude,\n",
    "}\n",
    "\n",
    "df_n_out = pd.DataFrame(data)\n",
    "f_node_out = PROJ_DIR + \"/tgb/datasets/tgbl_flight/airport_node_feat_v2_out_full.csv\"\n",
    "df_n_out.to_csv(f_node_out, index= False, na_rep= \"NA\")"
   ]
  }
 ],
 "metadata": {
  "kernelspec": {
   "display_name": ".venv",
   "language": "python",
   "name": "python3"
  },
  "language_info": {
   "codemirror_mode": {
    "name": "ipython",
    "version": 3
   },
   "file_extension": ".py",
   "mimetype": "text/x-python",
   "name": "python",
   "nbconvert_exporter": "python",
   "pygments_lexer": "ipython3",
   "version": "3.10.12"
  }
 },
 "nbformat": 4,
 "nbformat_minor": 2
}
